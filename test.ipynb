{
 "cells": [
  {
   "cell_type": "code",
   "execution_count": 1,
   "metadata": {},
   "outputs": [
    {
     "name": "stderr",
     "output_type": "stream",
     "text": [
      "/home/betelgeuse/.pyenv/versions/3.11.2/lib/python3.11/site-packages/tqdm/auto.py:21: TqdmWarning: IProgress not found. Please update jupyter and ipywidgets. See https://ipywidgets.readthedocs.io/en/stable/user_install.html\n",
      "  from .autonotebook import tqdm as notebook_tqdm\n"
     ]
    }
   ],
   "source": [
    "import datasets as ds\n",
    "import pandas as pd\n",
    "import matplotlib.pyplot as plt"
   ]
  },
  {
   "cell_type": "code",
   "execution_count": 2,
   "metadata": {},
   "outputs": [
    {
     "name": "stdout",
     "output_type": "stream",
     "text": [
      "Loading imdb dataset...\n"
     ]
    },
    {
     "name": "stderr",
     "output_type": "stream",
     "text": [
      "Found cached dataset imdb (/home/betelgeuse/.cache/huggingface/datasets/imdb/plain_text/1.0.0/d613c88cf8fa3bab83b4ded3713f1f74830d1100e171db75bbddb80b3345c9c0)\n",
      "100%|██████████| 3/3 [00:00<00:00,  7.86it/s]\n"
     ]
    },
    {
     "name": "stdout",
     "output_type": "stream",
     "text": [
      "Dataset preprocessing...\n"
     ]
    },
    {
     "name": "stderr",
     "output_type": "stream",
     "text": [
      "Loading cached processed dataset at /home/betelgeuse/.cache/huggingface/datasets/imdb/plain_text/1.0.0/d613c88cf8fa3bab83b4ded3713f1f74830d1100e171db75bbddb80b3345c9c0/cache-b0370cd6bba10ccc.arrow\n"
     ]
    }
   ],
   "source": [
    "from nlp_ood_detection.data.data_processing import DataPreprocessing\n",
    "from transformers import AutoTokenizer\n",
    "dataloader = DataPreprocessing(tokenizer= AutoTokenizer.from_pretrained('distilbert-base-cased'), dataset_list=['imdb'])"
   ]
  },
  {
   "cell_type": "code",
   "execution_count": 5,
   "metadata": {},
   "outputs": [
    {
     "name": "stderr",
     "output_type": "stream",
     "text": [
      "Found cached dataset imdb (/home/betelgeuse/.cache/huggingface/datasets/imdb/plain_text/1.0.0/d613c88cf8fa3bab83b4ded3713f1f74830d1100e171db75bbddb80b3345c9c0)\n",
      "100%|██████████| 3/3 [00:00<00:00, 487.52it/s]\n"
     ]
    }
   ],
   "source": [
    "from nlp_ood_detection.data.data_processing import load_dataset\n",
    "\n",
    "dataset = load_dataset('imdb')"
   ]
  },
  {
   "cell_type": "code",
   "execution_count": 8,
   "metadata": {},
   "outputs": [
    {
     "name": "stderr",
     "output_type": "stream",
     "text": [
      "                                                                   \r"
     ]
    }
   ],
   "source": [
    "tokenizer= AutoTokenizer.from_pretrained('distilbert-base-cased')\n",
    "result = dataset['train'].map(lambda x: tokenizer(\n",
    "                x['text'], truncation=True, padding='max_length'), batched=True)"
   ]
  },
  {
   "cell_type": "code",
   "execution_count": 14,
   "metadata": {},
   "outputs": [],
   "source": [
    "result = result.remove_columns(['text'])"
   ]
  },
  {
   "cell_type": "code",
   "execution_count": 1,
   "metadata": {},
   "outputs": [
    {
     "name": "stderr",
     "output_type": "stream",
     "text": [
      "/home/betelgeuse/.pyenv/versions/3.11.2/lib/python3.11/site-packages/tqdm/auto.py:21: TqdmWarning: IProgress not found. Please update jupyter and ipywidgets. See https://ipywidgets.readthedocs.io/en/stable/user_install.html\n",
      "  from .autonotebook import tqdm as notebook_tqdm\n"
     ]
    }
   ],
   "source": [
    "from transformers import AutoTokenizer, AutoConfig\n",
    "from nlp_ood_detection.models.bert_based_classifier import BertBasedDataModule\n",
    "\n",
    "model_name = \"distilbert-base-cased\"\n",
    "tokenizer = AutoTokenizer.from_pretrained(model_name)\n",
    "config = AutoConfig.from_pretrained(model_name)\n",
    "\n",
    "params = {\n",
    "    \"model_name\": model_name,\n",
    "    \"config\": config,\n",
    "    \"max_epochs\": 10,\n",
    "    \"lr\": 1e-5,\n",
    "    \"batch_size\": 1,\n",
    "    \"num_workers\": 0,\n",
    "    \"tokenizer\": tokenizer,\n",
    "    \"dataset_name\": \"imdb\",\n",
    "    \"num_labels\": 2\n",
    "}\n",
    "\n",
    "dataloader = BertBasedDataModule(**params)"
   ]
  },
  {
   "cell_type": "code",
   "execution_count": 2,
   "metadata": {},
   "outputs": [
    {
     "name": "stdout",
     "output_type": "stream",
     "text": [
      "Loading imdb dataset...\n"
     ]
    },
    {
     "name": "stderr",
     "output_type": "stream",
     "text": [
      "Found cached dataset imdb (/home/betelgeuse/.cache/huggingface/datasets/imdb/plain_text/1.0.0/d613c88cf8fa3bab83b4ded3713f1f74830d1100e171db75bbddb80b3345c9c0)\n",
      "100%|██████████| 3/3 [00:00<00:00, 12.39it/s]\n"
     ]
    },
    {
     "name": "stdout",
     "output_type": "stream",
     "text": [
      "Dataset preprocessing...\n"
     ]
    },
    {
     "name": "stderr",
     "output_type": "stream",
     "text": [
      "Loading cached processed dataset at /home/betelgeuse/.cache/huggingface/datasets/imdb/plain_text/1.0.0/d613c88cf8fa3bab83b4ded3713f1f74830d1100e171db75bbddb80b3345c9c0/cache-f580dcfa40f2f64d.arrow\n"
     ]
    }
   ],
   "source": [
    "dataloader.setup()"
   ]
  },
  {
   "cell_type": "code",
   "execution_count": 3,
   "metadata": {},
   "outputs": [],
   "source": [
    "train_dataloader = dataloader.train_dataloader()"
   ]
  },
  {
   "cell_type": "code",
   "execution_count": 4,
   "metadata": {},
   "outputs": [],
   "source": [
    "batch = next(iter(train_dataloader))"
   ]
  },
  {
   "cell_type": "code",
   "execution_count": 5,
   "metadata": {},
   "outputs": [
    {
     "data": {
      "text/plain": [
       "{'label': tensor([1]),\n",
       " 'input_ids': tensor([[  101,  1109, 24197,  1863, 25822,  1121,  2896, 25740,  1161,   117,\n",
       "           4619,  1123,  3420,  5266,  1104,  6970, 21937,  1733,   117,  1144,\n",
       "            170,   185, 10205,  6944,  2916,  3068,   119,  1556,  1123, 12628,\n",
       "            117,  1218,   118,  3586,  1181,  2482,   117,  1415,   118, 16118,\n",
       "            117, 14880, 13335,  8163,  1193,  1940,  9022,  1663, 11944,  7533,\n",
       "           1105,  6387,   118,  3821,  5837,  8745,  7235,  1104,  1143,   118,\n",
       "           3964,  4524, 25881,   117,  1103,  1959,  1104,  2896, 25740,  1161,\n",
       "           1144,   170,  8462,  1105,  1159,  2008,  5767,   119,  1249,  1126,\n",
       "          25850,  5191, 10885,  1776,  1105,  1126,  2510,  5585,  3888,  1107,\n",
       "           1103,  2401,  1104, 25514,   117,  1122,  1110, 10238,  1115,  1103,\n",
       "           2896, 25740,  1161, 20122,  1144,  2218,  9072, 20656, 12320,  3050,\n",
       "           1115,  1494,  1106,  1294,  1103,  1959,  1167,  1190,  1103,  7584,\n",
       "           1104,  1123, 11184,  1183,  1141,   118, 12119,  1116,  1105,  1415,\n",
       "           2229,   119,  1249,  7087,  1121,  1103,  4758,  1107,  1134,  1103,\n",
       "           1482,  1104,  1103,  1411, 10573,  1106,  1123,   117,  1131,  5149,\n",
       "           1103,  1996, 25506,  7369,  1111,  1126,  4531,  1590,  2292,  1169,\n",
       "           7543,  1106,  1172,  1104,  1147,  1634,   131,   170,  4020,  7759,\n",
       "           1104,  1141,   118,  8611,  6376,  1214,  3381,   117,  2298,  2944,\n",
       "           3785,   172,  1611,  3970,  1105,  1103,  4232,  1111,  1664,   118,\n",
       "           8400,  1193,  1609, 19233,  1174,  4106,   119,  1153,  5961,  9534,\n",
       "           1126,  5576, 19703,  7891,  1104,  1590,  5914,  3264,  1174,  1111,\n",
       "           1103,  3287,  1105,   170,  2674,  1104,  3220,  1111,  1103,  2636,\n",
       "           1104,  1103,  1411,   119,  1109,  1168,  6323,  1138,  3819,  1114,\n",
       "           1123,  1111,  1103,  1269,  3672,   119,  1130,  1103,  1322,   117,\n",
       "           1649,   117,  1123,  1273,  2834,  1815,  2789,  1157,  1167,  3227,\n",
       "           1183, 13288,   119,  1109,  1322,  1871,  1110,  1115,  1229,  2896,\n",
       "          25740,  1161,  1110, 13157,  1193,  5426,   117,  1123,  1273,  1110,\n",
       "           2609,  1118,  1293,  4780,   170, 17045,  1122,  1110,  1111,  1123,\n",
       "          12236,   119, 16992,  1917,  1110, 24423,  1106,  1126, 25506, 10089,\n",
       "           2105,  1105,  1780,  1122,  1110,   170, 21546,  3789,   117,  1178,\n",
       "           1343,  1150,  1169,  1253,  1965,  1869,  1114,  1103,  1713,  1104,\n",
       "            170,  1685,  1825,  1209,  1129,  1682,  1106,  5548,  1103, 17466,\n",
       "            119, 18101,   117,   146,  1138,  1216,  2912,  1105,  1276,  1103,\n",
       "           1273,  1106,  1129,   170, 13657,  2365, 11967,  1200,   119,   133,\n",
       "           9304,   120,   135,   133,  9304,   120,   135,  1798,   154, 11848,\n",
       "           1566,   131,  3162,  2156,  3408,   131,  1731,   112,   188,  1240,\n",
       "           1246,   136,  2896, 25740,  1161,   131,   146,  3983,   112,   189,\n",
       "           1125,  1251, 11344,   119,   102,     0,     0,     0,     0,     0,\n",
       "              0,     0,     0,     0,     0,     0,     0,     0,     0,     0,\n",
       "              0,     0,     0,     0,     0,     0,     0,     0,     0,     0,\n",
       "              0,     0,     0,     0,     0,     0,     0,     0,     0,     0,\n",
       "              0,     0,     0,     0,     0,     0,     0,     0,     0,     0,\n",
       "              0,     0,     0,     0,     0,     0,     0,     0,     0,     0,\n",
       "              0,     0,     0,     0,     0,     0,     0,     0,     0,     0,\n",
       "              0,     0,     0,     0,     0,     0,     0,     0,     0,     0,\n",
       "              0,     0,     0,     0,     0,     0,     0,     0,     0,     0,\n",
       "              0,     0,     0,     0,     0,     0,     0,     0,     0,     0,\n",
       "              0,     0,     0,     0,     0,     0,     0,     0,     0,     0,\n",
       "              0,     0,     0,     0,     0,     0,     0,     0,     0,     0,\n",
       "              0,     0,     0,     0,     0,     0,     0,     0,     0,     0,\n",
       "              0,     0,     0,     0,     0,     0,     0,     0,     0,     0,\n",
       "              0,     0]]),\n",
       " 'attention_mask': tensor([[1, 1, 1, 1, 1, 1, 1, 1, 1, 1, 1, 1, 1, 1, 1, 1, 1, 1, 1, 1, 1, 1, 1, 1,\n",
       "          1, 1, 1, 1, 1, 1, 1, 1, 1, 1, 1, 1, 1, 1, 1, 1, 1, 1, 1, 1, 1, 1, 1, 1,\n",
       "          1, 1, 1, 1, 1, 1, 1, 1, 1, 1, 1, 1, 1, 1, 1, 1, 1, 1, 1, 1, 1, 1, 1, 1,\n",
       "          1, 1, 1, 1, 1, 1, 1, 1, 1, 1, 1, 1, 1, 1, 1, 1, 1, 1, 1, 1, 1, 1, 1, 1,\n",
       "          1, 1, 1, 1, 1, 1, 1, 1, 1, 1, 1, 1, 1, 1, 1, 1, 1, 1, 1, 1, 1, 1, 1, 1,\n",
       "          1, 1, 1, 1, 1, 1, 1, 1, 1, 1, 1, 1, 1, 1, 1, 1, 1, 1, 1, 1, 1, 1, 1, 1,\n",
       "          1, 1, 1, 1, 1, 1, 1, 1, 1, 1, 1, 1, 1, 1, 1, 1, 1, 1, 1, 1, 1, 1, 1, 1,\n",
       "          1, 1, 1, 1, 1, 1, 1, 1, 1, 1, 1, 1, 1, 1, 1, 1, 1, 1, 1, 1, 1, 1, 1, 1,\n",
       "          1, 1, 1, 1, 1, 1, 1, 1, 1, 1, 1, 1, 1, 1, 1, 1, 1, 1, 1, 1, 1, 1, 1, 1,\n",
       "          1, 1, 1, 1, 1, 1, 1, 1, 1, 1, 1, 1, 1, 1, 1, 1, 1, 1, 1, 1, 1, 1, 1, 1,\n",
       "          1, 1, 1, 1, 1, 1, 1, 1, 1, 1, 1, 1, 1, 1, 1, 1, 1, 1, 1, 1, 1, 1, 1, 1,\n",
       "          1, 1, 1, 1, 1, 1, 1, 1, 1, 1, 1, 1, 1, 1, 1, 1, 1, 1, 1, 1, 1, 1, 1, 1,\n",
       "          1, 1, 1, 1, 1, 1, 1, 1, 1, 1, 1, 1, 1, 1, 1, 1, 1, 1, 1, 1, 1, 1, 1, 1,\n",
       "          1, 1, 1, 1, 1, 1, 1, 1, 1, 1, 1, 1, 1, 1, 1, 1, 1, 1, 1, 1, 1, 1, 1, 1,\n",
       "          1, 1, 1, 1, 1, 1, 1, 1, 1, 1, 1, 1, 1, 1, 1, 1, 1, 1, 1, 1, 1, 1, 1, 1,\n",
       "          1, 1, 1, 1, 1, 1, 1, 1, 1, 1, 1, 1, 1, 1, 1, 0, 0, 0, 0, 0, 0, 0, 0, 0,\n",
       "          0, 0, 0, 0, 0, 0, 0, 0, 0, 0, 0, 0, 0, 0, 0, 0, 0, 0, 0, 0, 0, 0, 0, 0,\n",
       "          0, 0, 0, 0, 0, 0, 0, 0, 0, 0, 0, 0, 0, 0, 0, 0, 0, 0, 0, 0, 0, 0, 0, 0,\n",
       "          0, 0, 0, 0, 0, 0, 0, 0, 0, 0, 0, 0, 0, 0, 0, 0, 0, 0, 0, 0, 0, 0, 0, 0,\n",
       "          0, 0, 0, 0, 0, 0, 0, 0, 0, 0, 0, 0, 0, 0, 0, 0, 0, 0, 0, 0, 0, 0, 0, 0,\n",
       "          0, 0, 0, 0, 0, 0, 0, 0, 0, 0, 0, 0, 0, 0, 0, 0, 0, 0, 0, 0, 0, 0, 0, 0,\n",
       "          0, 0, 0, 0, 0, 0, 0, 0]])}"
      ]
     },
     "execution_count": 5,
     "metadata": {},
     "output_type": "execute_result"
    }
   ],
   "source": [
    "batch"
   ]
  }
 ],
 "metadata": {
  "kernelspec": {
   "display_name": "Python 3.11.2 64-bit ('3.11.2')",
   "language": "python",
   "name": "python3"
  },
  "language_info": {
   "codemirror_mode": {
    "name": "ipython",
    "version": 3
   },
   "file_extension": ".py",
   "mimetype": "text/x-python",
   "name": "python",
   "nbconvert_exporter": "python",
   "pygments_lexer": "ipython3",
   "version": "3.11.2"
  },
  "orig_nbformat": 4,
  "vscode": {
   "interpreter": {
    "hash": "409fd84476d03caf2ce4a0220884fa07c75bf9d33c0132fa6197f9e226a117a7"
   }
  }
 },
 "nbformat": 4,
 "nbformat_minor": 2
}
